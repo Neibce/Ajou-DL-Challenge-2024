{
  "cells": [
    {
      "cell_type": "code",
      "execution_count": null,
      "metadata": {
        "colab": {
          "base_uri": "https://localhost:8080/"
        },
        "id": "xNagrImegpGH",
        "outputId": "07ee95a0-c593-4b9c-d05b-64fddbd27fd8"
      },
      "outputs": [
        {
          "output_type": "stream",
          "name": "stdout",
          "text": [
            "Drive already mounted at /content/drive; to attempt to forcibly remount, call drive.mount(\"/content/drive\", force_remount=True).\n"
          ]
        }
      ],
      "source": [
        "from google.colab import drive\n",
        "drive.mount('/content/drive')"
      ]
    },
    {
      "cell_type": "code",
      "execution_count": null,
      "metadata": {
        "colab": {
          "base_uri": "https://localhost:8080/"
        },
        "id": "nSa2LbqtNcHW",
        "outputId": "66bf6f40-cd16-4d97-f662-34fae6994be2"
      },
      "outputs": [
        {
          "output_type": "stream",
          "name": "stdout",
          "text": [
            "File ‘2024swunivchallenge.zip’ already there; not retrieving.\n"
          ]
        }
      ],
      "source": [
        "!wget -nc -O 2024swunivchallenge.zip https://huggingface.co/datasets/sw24/sw24/resolve/main/data.zip?download=true && unzip -q -n 2024swunivchallenge.zip\n",
        "!pip3 -q install natsort ftfy"
      ]
    },
    {
      "cell_type": "code",
      "execution_count": null,
      "metadata": {
        "colab": {
          "base_uri": "https://localhost:8080/"
        },
        "id": "44CSrvFuTuvN",
        "outputId": "c788b323-b6cb-4940-89ae-ba8b31bb588d"
      },
      "outputs": [
        {
          "output_type": "stream",
          "name": "stdout",
          "text": [
            "Collecting git+https://github.com/facebookresearch/metaclip.git\n",
            "  Cloning https://github.com/facebookresearch/metaclip.git to /tmp/pip-req-build-2mzm6bhm\n",
            "  Running command git clone --filter=blob:none --quiet https://github.com/facebookresearch/metaclip.git /tmp/pip-req-build-2mzm6bhm\n",
            "  Resolved https://github.com/facebookresearch/metaclip.git to commit 2bbbfad7385b6f214af3d54f16add72dfd094771\n",
            "  Preparing metadata (setup.py) ... \u001b[?25l\u001b[?25hdone\n",
            "Requirement already satisfied: torch>=1.9 in /usr/local/lib/python3.10/dist-packages (from open_clip_torch==1.3.0) (2.3.1+cu121)\n",
            "Requirement already satisfied: torchvision in /usr/local/lib/python3.10/dist-packages (from open_clip_torch==1.3.0) (0.18.1+cu121)\n",
            "Requirement already satisfied: ftfy in /usr/local/lib/python3.10/dist-packages (from open_clip_torch==1.3.0) (6.2.3)\n",
            "Requirement already satisfied: regex in /usr/local/lib/python3.10/dist-packages (from open_clip_torch==1.3.0) (2024.5.15)\n",
            "Requirement already satisfied: tqdm in /usr/local/lib/python3.10/dist-packages (from open_clip_torch==1.3.0) (4.66.5)\n",
            "Requirement already satisfied: filelock in /usr/local/lib/python3.10/dist-packages (from torch>=1.9->open_clip_torch==1.3.0) (3.15.4)\n",
            "Requirement already satisfied: typing-extensions>=4.8.0 in /usr/local/lib/python3.10/dist-packages (from torch>=1.9->open_clip_torch==1.3.0) (4.12.2)\n",
            "Requirement already satisfied: sympy in /usr/local/lib/python3.10/dist-packages (from torch>=1.9->open_clip_torch==1.3.0) (1.13.2)\n",
            "Requirement already satisfied: networkx in /usr/local/lib/python3.10/dist-packages (from torch>=1.9->open_clip_torch==1.3.0) (3.3)\n",
            "Requirement already satisfied: jinja2 in /usr/local/lib/python3.10/dist-packages (from torch>=1.9->open_clip_torch==1.3.0) (3.1.4)\n",
            "Requirement already satisfied: fsspec in /usr/local/lib/python3.10/dist-packages (from torch>=1.9->open_clip_torch==1.3.0) (2024.6.1)\n",
            "Requirement already satisfied: nvidia-cuda-nvrtc-cu12==12.1.105 in /usr/local/lib/python3.10/dist-packages (from torch>=1.9->open_clip_torch==1.3.0) (12.1.105)\n",
            "Requirement already satisfied: nvidia-cuda-runtime-cu12==12.1.105 in /usr/local/lib/python3.10/dist-packages (from torch>=1.9->open_clip_torch==1.3.0) (12.1.105)\n",
            "Requirement already satisfied: nvidia-cuda-cupti-cu12==12.1.105 in /usr/local/lib/python3.10/dist-packages (from torch>=1.9->open_clip_torch==1.3.0) (12.1.105)\n",
            "Requirement already satisfied: nvidia-cudnn-cu12==8.9.2.26 in /usr/local/lib/python3.10/dist-packages (from torch>=1.9->open_clip_torch==1.3.0) (8.9.2.26)\n",
            "Requirement already satisfied: nvidia-cublas-cu12==12.1.3.1 in /usr/local/lib/python3.10/dist-packages (from torch>=1.9->open_clip_torch==1.3.0) (12.1.3.1)\n",
            "Requirement already satisfied: nvidia-cufft-cu12==11.0.2.54 in /usr/local/lib/python3.10/dist-packages (from torch>=1.9->open_clip_torch==1.3.0) (11.0.2.54)\n",
            "Requirement already satisfied: nvidia-curand-cu12==10.3.2.106 in /usr/local/lib/python3.10/dist-packages (from torch>=1.9->open_clip_torch==1.3.0) (10.3.2.106)\n",
            "Requirement already satisfied: nvidia-cusolver-cu12==11.4.5.107 in /usr/local/lib/python3.10/dist-packages (from torch>=1.9->open_clip_torch==1.3.0) (11.4.5.107)\n",
            "Requirement already satisfied: nvidia-cusparse-cu12==12.1.0.106 in /usr/local/lib/python3.10/dist-packages (from torch>=1.9->open_clip_torch==1.3.0) (12.1.0.106)\n",
            "Requirement already satisfied: nvidia-nccl-cu12==2.20.5 in /usr/local/lib/python3.10/dist-packages (from torch>=1.9->open_clip_torch==1.3.0) (2.20.5)\n",
            "Requirement already satisfied: nvidia-nvtx-cu12==12.1.105 in /usr/local/lib/python3.10/dist-packages (from torch>=1.9->open_clip_torch==1.3.0) (12.1.105)\n",
            "Requirement already satisfied: triton==2.3.1 in /usr/local/lib/python3.10/dist-packages (from torch>=1.9->open_clip_torch==1.3.0) (2.3.1)\n",
            "Requirement already satisfied: nvidia-nvjitlink-cu12 in /usr/local/lib/python3.10/dist-packages (from nvidia-cusolver-cu12==11.4.5.107->torch>=1.9->open_clip_torch==1.3.0) (12.6.20)\n",
            "Requirement already satisfied: wcwidth<0.3.0,>=0.2.12 in /usr/local/lib/python3.10/dist-packages (from ftfy->open_clip_torch==1.3.0) (0.2.13)\n",
            "Requirement already satisfied: numpy in /usr/local/lib/python3.10/dist-packages (from torchvision->open_clip_torch==1.3.0) (1.26.4)\n",
            "Requirement already satisfied: pillow!=8.3.*,>=5.3.0 in /usr/local/lib/python3.10/dist-packages (from torchvision->open_clip_torch==1.3.0) (9.4.0)\n",
            "Requirement already satisfied: MarkupSafe>=2.0 in /usr/local/lib/python3.10/dist-packages (from jinja2->torch>=1.9->open_clip_torch==1.3.0) (2.1.5)\n",
            "Requirement already satisfied: mpmath<1.4,>=1.1.0 in /usr/local/lib/python3.10/dist-packages (from sympy->torch>=1.9->open_clip_torch==1.3.0) (1.3.0)\n"
          ]
        }
      ],
      "source": [
        "!pip install git+https://github.com/facebookresearch/metaclip.git"
      ]
    },
    {
      "cell_type": "code",
      "execution_count": null,
      "metadata": {
        "colab": {
          "base_uri": "https://localhost:8080/"
        },
        "id": "aCa8Iol0fx6j",
        "outputId": "30951d88-eca7-4f77-cd83-7bf2bea5093a"
      },
      "outputs": [
        {
          "output_type": "stream",
          "name": "stdout",
          "text": [
            "Collecting git+https://github.com/huggingface/transformers\n",
            "  Cloning https://github.com/huggingface/transformers to /tmp/pip-req-build-37x2jofc\n",
            "  Running command git clone --filter=blob:none --quiet https://github.com/huggingface/transformers /tmp/pip-req-build-37x2jofc\n",
            "  Resolved https://github.com/huggingface/transformers to commit 0a7af19f4dc868bafc82f35eb7e8d13bac87a594\n",
            "  Installing build dependencies ... \u001b[?25l\u001b[?25hdone\n",
            "  Getting requirements to build wheel ... \u001b[?25l\u001b[?25hdone\n",
            "  Preparing metadata (pyproject.toml) ... \u001b[?25l\u001b[?25hdone\n",
            "Requirement already satisfied: filelock in /usr/local/lib/python3.10/dist-packages (from transformers==4.45.0.dev0) (3.15.4)\n",
            "Requirement already satisfied: huggingface-hub<1.0,>=0.23.2 in /usr/local/lib/python3.10/dist-packages (from transformers==4.45.0.dev0) (0.23.5)\n",
            "Requirement already satisfied: numpy>=1.17 in /usr/local/lib/python3.10/dist-packages (from transformers==4.45.0.dev0) (1.26.4)\n",
            "Requirement already satisfied: packaging>=20.0 in /usr/local/lib/python3.10/dist-packages (from transformers==4.45.0.dev0) (24.1)\n",
            "Requirement already satisfied: pyyaml>=5.1 in /usr/local/lib/python3.10/dist-packages (from transformers==4.45.0.dev0) (6.0.2)\n",
            "Requirement already satisfied: regex!=2019.12.17 in /usr/local/lib/python3.10/dist-packages (from transformers==4.45.0.dev0) (2024.5.15)\n",
            "Requirement already satisfied: requests in /usr/local/lib/python3.10/dist-packages (from transformers==4.45.0.dev0) (2.32.3)\n",
            "Requirement already satisfied: tokenizers<0.20,>=0.19 in /usr/local/lib/python3.10/dist-packages (from transformers==4.45.0.dev0) (0.19.1)\n",
            "Requirement already satisfied: safetensors>=0.4.1 in /usr/local/lib/python3.10/dist-packages (from transformers==4.45.0.dev0) (0.4.4)\n",
            "Requirement already satisfied: tqdm>=4.27 in /usr/local/lib/python3.10/dist-packages (from transformers==4.45.0.dev0) (4.66.5)\n",
            "Requirement already satisfied: fsspec>=2023.5.0 in /usr/local/lib/python3.10/dist-packages (from huggingface-hub<1.0,>=0.23.2->transformers==4.45.0.dev0) (2024.6.1)\n",
            "Requirement already satisfied: typing-extensions>=3.7.4.3 in /usr/local/lib/python3.10/dist-packages (from huggingface-hub<1.0,>=0.23.2->transformers==4.45.0.dev0) (4.12.2)\n",
            "Requirement already satisfied: charset-normalizer<4,>=2 in /usr/local/lib/python3.10/dist-packages (from requests->transformers==4.45.0.dev0) (3.3.2)\n",
            "Requirement already satisfied: idna<4,>=2.5 in /usr/local/lib/python3.10/dist-packages (from requests->transformers==4.45.0.dev0) (3.7)\n",
            "Requirement already satisfied: urllib3<3,>=1.21.1 in /usr/local/lib/python3.10/dist-packages (from requests->transformers==4.45.0.dev0) (2.0.7)\n",
            "Requirement already satisfied: certifi>=2017.4.17 in /usr/local/lib/python3.10/dist-packages (from requests->transformers==4.45.0.dev0) (2024.7.4)\n"
          ]
        }
      ],
      "source": [
        "!pip install git+https://github.com/huggingface/transformers"
      ]
    },
    {
      "cell_type": "markdown",
      "metadata": {
        "id": "0uiWiU5xmoFv"
      },
      "source": [
        "\n",
        "\n",
        "---\n",
        "\n"
      ]
    },
    {
      "cell_type": "code",
      "execution_count": null,
      "metadata": {
        "id": "wvpneeSHT_kO"
      },
      "outputs": [],
      "source": [
        "device = 'cuda:0'\n",
        "root = './'\n",
        "dataset_name = 'Scene'"
      ]
    },
    {
      "cell_type": "code",
      "execution_count": null,
      "metadata": {
        "id": "b8GW7ZB2Tz_x"
      },
      "outputs": [],
      "source": [
        "import torchvision.transforms as T\n",
        "from torchvision.transforms import InterpolationMode\n",
        "from torchvision.transforms import RandomAdjustSharpness"
      ]
    },
    {
      "cell_type": "code",
      "execution_count": null,
      "metadata": {
        "id": "A33ZnXHAT1pZ"
      },
      "outputs": [],
      "source": [
        "processor_23 = T.Compose(\n",
        "    [\n",
        "         T.Resize((224, 224), interpolation=InterpolationMode.BICUBIC),\n",
        "         T.CenterCrop(size=(224, 224)),\n",
        "         T.Lambda(lambda img: img.convert('RGB')),\n",
        "         RandomAdjustSharpness(2.3, p=1),\n",
        "         T.ToTensor(),\n",
        "         T.Normalize(mean=(0.48145466, 0.4578275, 0.40821073), std=(0.26862954, 0.26130258, 0.27577711))\n",
        "     ]\n",
        ")"
      ]
    },
    {
      "cell_type": "code",
      "execution_count": null,
      "metadata": {
        "id": "o3-0lz1bVRZO"
      },
      "outputs": [],
      "source": [
        "processor_20 = T.Compose(\n",
        "    [\n",
        "         T.Resize((224, 224), interpolation=InterpolationMode.BICUBIC),\n",
        "         T.CenterCrop(size=(224, 224)),\n",
        "         T.Lambda(lambda img: img.convert('RGB')),\n",
        "         RandomAdjustSharpness(2, p=1),\n",
        "         T.ToTensor(),\n",
        "         T.Normalize(mean=(0.48145466, 0.4578275, 0.40821073), std=(0.26862954, 0.26130258, 0.27577711))\n",
        "     ]\n",
        ")"
      ]
    },
    {
      "cell_type": "code",
      "execution_count": null,
      "metadata": {
        "id": "9iy2YSY9kVEt"
      },
      "outputs": [],
      "source": [
        "import os, json"
      ]
    },
    {
      "cell_type": "code",
      "execution_count": null,
      "metadata": {
        "id": "7Res9lE0d6eX"
      },
      "outputs": [],
      "source": [
        "with open(os.path.join(root, 'classes.json'), 'r') as j:\n",
        "     class_names = json.loads(j.read())"
      ]
    },
    {
      "cell_type": "code",
      "execution_count": null,
      "metadata": {
        "id": "GVLF4leQUYHo"
      },
      "outputs": [],
      "source": [
        "prompts = []\n",
        "for class_name in class_names:\n",
        "    prompts.append(f\"{class_name}\")\n",
        "    prompts.append(f\"a photo of a {class_name}\")\n",
        "    prompts.append(f\"a image of a {class_name}\")\n",
        "    prompts.append(f\"art of the {class_name}\")\n",
        "    prompts.append(f\"a blurry photo of a {class_name}\")\n",
        "    prompts.append(f\"a blurry image of a {class_name}\")\n",
        "    prompts.append(f\"a blurred photo of a {class_name}\")\n",
        "    prompts.append(f\"a blurred image of a {class_name}\")\n",
        "    prompts.extend([\n",
        "        f'a bad photo of a {class_name}.',\n",
        "        f'a photo of many {class_name}.',\n",
        "        f'a photo of the hard to see {class_name}.',\n",
        "        f'a low resolution photo of the {class_name}.',\n",
        "        f'a bad photo of the {class_name}.',\n",
        "        f'a cropped photo of the {class_name}.',\n",
        "        f'a photo of a hard to see {class_name}.',\n",
        "        f'a bright photo of a {class_name}.',\n",
        "        f'a photo of a clean {class_name}.',\n",
        "        f'a photo of a dirty {class_name}.',\n",
        "        f'a dark photo of the {class_name}.',\n",
        "        f'a photo of my {class_name}.',\n",
        "        f'a photo of the cool {class_name}.',\n",
        "        f'a bright photo of the {class_name}.',\n",
        "        f'a cropped photo of a {class_name}.',\n",
        "        f'a photo of the dirty {class_name}.',\n",
        "        f'a jpeg corrupted photo of a {class_name}.',\n",
        "        f'a blurry photo of the {class_name}.',\n",
        "        f'a photo of the {class_name}.',\n",
        "        f'a good photo of the {class_name}.',\n",
        "        f'a rendering of the {class_name}.',\n",
        "        f'a {class_name} in a video game.',\n",
        "        f'a photo of one {class_name}.',\n",
        "        f'a close-up photo of the {class_name}.',\n",
        "        f'the {class_name} in a video game.',\n",
        "        f'a sketch of a {class_name}.',\n",
        "        f'a low resolution photo of a {class_name}.',\n",
        "        f'a photo of the clean {class_name}.',\n",
        "        f'a photo of a large {class_name}.',\n",
        "        f'a photo of a nice {class_name}.',\n",
        "        f'a photo of a weird {class_name}.',\n",
        "        f'a sketch of the {class_name}.',\n",
        "        f'a jpeg corrupted photo of the {class_name}.',\n",
        "        f'a good photo of a {class_name}.',\n",
        "        f'a photo of the nice {class_name}.',\n",
        "        f'a photo of the small {class_name}.',\n",
        "        f'a photo of the weird {class_name}.',\n",
        "        f'a drawing of the {class_name}.',\n",
        "        f'a photo of the large {class_name}.',\n",
        "        f'a dark photo of a {class_name}.',\n",
        "        f'a photo of a small {class_name}.'\n",
        "    ])\n",
        "\n",
        "    if class_name == \"Buildings\":\n",
        "        prompts.extend([\n",
        "            \"A picture of an urban area with buildings\",\n",
        "            \"An architectural structure in the city\",\n",
        "            \"The Windows\"\n",
        "        ])\n",
        "    elif class_name == \"Forests\":\n",
        "        prompts.extend([\n",
        "            \"A picture of a dense forest with trees\",\n",
        "            \"A scenic view of a forest landscape\",\n",
        "            \"A picture of the Trees\"\n",
        "        ])\n",
        "    elif class_name == \"Glacier\":\n",
        "        prompts.extend([\n",
        "            \"A picture of an ice\",\n",
        "            \"A scenic view of a snowy glacier\",\n",
        "            \"A scenic view of some snow in the mountains\"\n",
        "        ])\n",
        "    elif class_name == \"Mountains\":\n",
        "        prompts.extend([\n",
        "            \"A picture of a mountain range\",\n",
        "            \"A scenic view of the mountains\",\n",
        "            \"A stunning panorama of rugged mountain cliffs\"\n",
        "        ])\n",
        "    elif class_name == \"Sea\":\n",
        "        prompts.extend([\n",
        "            \"A picture of water\",\n",
        "            \"A picture of the ocean\",\n",
        "            \"A scenic view of the sea and waves\"\n",
        "        ])\n",
        "    elif class_name == \"Street\":\n",
        "        prompts.extend([\n",
        "            \"A picture of a road\",\n",
        "            \"A picture of a busy street in the city\",\n",
        "            \"An urban street with buildings and cars\"\n",
        "        ])"
      ]
    },
    {
      "cell_type": "markdown",
      "metadata": {
        "id": "-hht0_9doZUC"
      },
      "source": [
        "<hr>"
      ]
    },
    {
      "cell_type": "code",
      "execution_count": null,
      "metadata": {
        "id": "cn0xbIzOTwaW"
      },
      "outputs": [],
      "source": [
        "import pandas as pd\n",
        "from tqdm import tqdm\n",
        "from natsort import natsorted\n",
        "import open_clip, torch\n",
        "from open_clip import tokenizer\n",
        "from torchvision.datasets import ImageFolder\n",
        "from torch.utils.data import DataLoader"
      ]
    },
    {
      "cell_type": "code",
      "execution_count": null,
      "metadata": {
        "id": "ZhkwA7D0gS99",
        "colab": {
          "base_uri": "https://localhost:8080/"
        },
        "outputId": "42f85054-fcef-469d-d959-b0559aa9f6fc"
      },
      "outputs": [
        {
          "output_type": "stream",
          "name": "stderr",
          "text": [
            "100%|██████████████████████████████████████| 30.5G/30.5G [02:42<00:00, 188MiB/s]\n"
          ]
        }
      ],
      "source": [
        "model = open_clip.create_model('ViT-bigG-14-quickgelu', pretrained='metaclip_2_5b').to(device)\n",
        "### pretrained='/content/drive/MyDrive/G14_fullcc2.5b.pt'"
      ]
    },
    {
      "cell_type": "code",
      "execution_count": null,
      "metadata": {
        "id": "UPjncJD0UTk-"
      },
      "outputs": [],
      "source": [
        "ds_meta = ImageFolder(os.path.join(root, dataset_name), transform=processor_23)\n",
        "ds_meta.samples = natsorted(ds_meta.samples)\n",
        "dl_meta = DataLoader(ds_meta, shuffle=False, batch_size=32, num_workers=2)"
      ]
    },
    {
      "cell_type": "code",
      "execution_count": null,
      "metadata": {
        "id": "nyALzLe5UgIE",
        "colab": {
          "base_uri": "https://localhost:8080/"
        },
        "outputId": "740ae131-ed5b-4ec0-b337-7cacd9209ad8"
      },
      "outputs": [
        {
          "output_type": "stream",
          "name": "stderr",
          "text": [
            "100%|██████████| 254/254 [01:01<00:00,  4.11it/s]\n"
          ]
        }
      ],
      "source": [
        "meta_probs_list = []\n",
        "\n",
        "with torch.no_grad(), torch.cuda.amp.autocast():\n",
        "    text = tokenizer.tokenize(prompts).to(device)\n",
        "    text_features = model.encode_text(text)\n",
        "    text_features /= text_features.norm(dim=-1, keepdim=True)\n",
        "\n",
        "    for x, y in tqdm(dl_meta):\n",
        "        x = x.to(device)\n",
        "        image_features = model.encode_image(x)\n",
        "        image_features /= image_features.norm(dim=-1, keepdim=True)\n",
        "\n",
        "        zero_shot_probs = (100.0 * image_features @ text_features.T).softmax(dim=-1)\n",
        "        meta_probs_list += zero_shot_probs"
      ]
    },
    {
      "cell_type": "markdown",
      "metadata": {
        "id": "xZ0-U9Z7fwIt"
      },
      "source": [
        "\n",
        "\n",
        "---\n",
        "\n"
      ]
    },
    {
      "cell_type": "code",
      "execution_count": null,
      "metadata": {
        "id": "8idll8Zg18v3"
      },
      "outputs": [],
      "source": [
        "del model, text, text_features, x, image_features, zero_shot_probs\n",
        "torch.cuda.empty_cache()"
      ]
    },
    {
      "cell_type": "markdown",
      "metadata": {
        "id": "tyKgmnU-vtnc"
      },
      "source": [
        "\n",
        "\n",
        "---\n",
        "\n"
      ]
    },
    {
      "cell_type": "code",
      "execution_count": null,
      "metadata": {
        "id": "gtq9jt_NgArW"
      },
      "outputs": [],
      "source": [
        "from transformers import AutoModel, CLIPTokenizer"
      ]
    },
    {
      "cell_type": "code",
      "execution_count": null,
      "metadata": {
        "colab": {
          "base_uri": "https://localhost:8080/"
        },
        "id": "rJD2_quQn6-b",
        "outputId": "378cbd9c-1085-40cd-ea8d-10ba45a8273c"
      },
      "outputs": [
        {
          "output_type": "stream",
          "name": "stderr",
          "text": [
            "/usr/local/lib/python3.10/dist-packages/huggingface_hub/utils/_token.py:89: UserWarning: \n",
            "The secret `HF_TOKEN` does not exist in your Colab secrets.\n",
            "To authenticate with the Hugging Face Hub, create a token in your settings tab (https://huggingface.co/settings/tokens), set it as secret in your Google Colab and restart your session.\n",
            "You will be able to reuse this secret in all of your notebooks.\n",
            "Please note that authentication is recommended but still optional to access public models or datasets.\n",
            "  warnings.warn(\n",
            "/usr/local/lib/python3.10/dist-packages/transformers/tokenization_utils_base.py:1601: FutureWarning: `clean_up_tokenization_spaces` was not set. It will be set to `True` by default. This behavior will be deprecated in transformers v4.45, and will be then set to `False` by default. For more details check this issue: https://github.com/huggingface/transformers/issues/31884\n",
            "  warnings.warn(\n"
          ]
        }
      ],
      "source": [
        "tokenizer = CLIPTokenizer.from_pretrained('BAAI/EVA-CLIP-18B')"
      ]
    },
    {
      "cell_type": "code",
      "execution_count": null,
      "metadata": {
        "colab": {
          "base_uri": "https://localhost:8080/",
          "height": 49,
          "referenced_widgets": [
            "c0becdda0ed145eb88d44dd4ed7d48a4",
            "ed8665c4cfd24d2693978ee7f81d6077",
            "34b21e1df5a445c588c1856555b12e95",
            "4e357a19459349e6b18c3f889f8211f7",
            "376eb0eaeb9d4f18a228d20586e21dcc",
            "5a40a84c2c0649c4b6f6dc499814b4bb",
            "3c71660624594fb897b53ad751537927",
            "1b9a7087cf64415181d87729004a6864",
            "8a48fa1557934cb5af522b62cc7e1076",
            "960f270135d64a25b40feb43c3ebd7c0",
            "0f1ae66003ca4782b4722ddd9b7879ab"
          ]
        },
        "id": "gPx-nZEHwj9u",
        "outputId": "26dcef45-c3e3-47af-b237-2e00d30227e3"
      },
      "outputs": [
        {
          "data": {
            "application/vnd.jupyter.widget-view+json": {
              "model_id": "c0becdda0ed145eb88d44dd4ed7d48a4",
              "version_major": 2,
              "version_minor": 0
            },
            "text/plain": [
              "Loading checkpoint shards:   0%|          | 0/8 [00:00<?, ?it/s]"
            ]
          },
          "metadata": {},
          "output_type": "display_data"
        }
      ],
      "source": [
        "os.environ['TRANSFORMERS_OFFLINE']='1'\n",
        "model = AutoModel.from_pretrained(\n",
        "         '/content/drive/MyDrive/EVA18B',\n",
        "         torch_dtype=torch.float16,\n",
        "         trust_remote_code=True).to('cuda').eval()"
      ]
    },
    {
      "cell_type": "code",
      "execution_count": null,
      "metadata": {
        "id": "YAtjJAnRgZSd"
      },
      "outputs": [],
      "source": [
        "# model = AutoModel.from_pretrained(\n",
        "#     'BAAI/EVA-CLIP-18B',\n",
        "#     torch_dtype=torch.float16,\n",
        "#     trust_remote_code=True).to('cuda').eval()"
      ]
    },
    {
      "cell_type": "code",
      "execution_count": null,
      "metadata": {
        "id": "CPMprqQTn1t1"
      },
      "outputs": [],
      "source": [
        "ds_eva = ImageFolder(os.path.join(root, dataset_name), transform=processor_20)\n",
        "ds_eva.samples = natsorted(ds_eva.samples)\n",
        "dl_eva = DataLoader(ds_eva, shuffle=False, batch_size=32, num_workers=2)\n",
        "\n",
        "with open(os.path.join(root, 'classes.json'), 'r') as j:\n",
        "     class_names = json.loads(j.read())"
      ]
    },
    {
      "cell_type": "code",
      "execution_count": null,
      "metadata": {
        "id": "IlVmMkAku_A7",
        "colab": {
          "base_uri": "https://localhost:8080/"
        },
        "outputId": "c5887151-9a01-4cb3-ef3a-3e87c47a0126"
      },
      "outputs": [
        {
          "output_type": "stream",
          "name": "stderr",
          "text": [
            "100%|██████████| 254/254 [06:30<00:00,  1.54s/it]\n"
          ]
        }
      ],
      "source": [
        "eva_probs_list = []\n",
        "\n",
        "with torch.no_grad(), torch.cuda.amp.autocast():\n",
        "    text = tokenizer(prompts, return_tensors='pt', padding=True).input_ids.to('cuda')\n",
        "    text_features = model.encode_text(text)\n",
        "    text_features /= text_features.norm(dim=-1, keepdim=True)\n",
        "\n",
        "    for x, y in tqdm(dl_eva):\n",
        "        x = x.to(device)\n",
        "        image_features = model.encode_image(x)\n",
        "        image_features /= image_features.norm(dim=-1, keepdim=True)\n",
        "\n",
        "        zero_shot_probs = (100.0 * image_features @ text_features.T).softmax(dim=-1)\n",
        "        eva_probs_list += zero_shot_probs"
      ]
    },
    {
      "cell_type": "markdown",
      "metadata": {
        "id": "h_yJVmlyloTM"
      },
      "source": [
        "\n",
        "\n",
        "---\n",
        "\n",
        "# 1. 054+046"
      ]
    },
    {
      "cell_type": "code",
      "execution_count": null,
      "metadata": {
        "id": "4IvVJOe6GxyV"
      },
      "outputs": [],
      "source": [
        "ensembled_probs_list = [meta_probs * 0.54 + eva_probs * 0.46 for meta_probs, eva_probs in zip(meta_probs_list, eva_probs_list)]"
      ]
    },
    {
      "cell_type": "code",
      "execution_count": null,
      "metadata": {
        "id": "JO-Erb6vmFv0"
      },
      "outputs": [],
      "source": [
        "label_list = [ensembled_probs.reshape(len(class_names), -1).mean(dim=-1).max(dim=-1)[1].tolist() for ensembled_probs in ensembled_probs_list]"
      ]
    },
    {
      "cell_type": "code",
      "execution_count": null,
      "metadata": {
        "id": "YlYA1beknY_3"
      },
      "outputs": [],
      "source": [
        "submission = dict({'id_idx':list(range(8100)), 'label': label_list})"
      ]
    },
    {
      "cell_type": "code",
      "execution_count": null,
      "metadata": {
        "id": "BQMv2yAHnacN"
      },
      "outputs": [],
      "source": [
        "pd.DataFrame(submission).to_csv(os.path.join(root, 'submission1_054_046.csv'), index=False)"
      ]
    },
    {
      "cell_type": "markdown",
      "metadata": {
        "id": "TDEUSP5EomC8"
      },
      "source": [
        "\n",
        "\n",
        "---\n",
        "\n",
        "# 2. 054+046 (> 0.002)"
      ]
    },
    {
      "cell_type": "code",
      "execution_count": null,
      "metadata": {
        "id": "y56WIV1cop0A"
      },
      "outputs": [],
      "source": [
        "ensembled_probs_list = [torch.where(ensembled_probs > 0.002, ensembled_probs, 0) for ensembled_probs in ensembled_probs_list] ### ensembled_probs_list ###"
      ]
    },
    {
      "cell_type": "code",
      "execution_count": null,
      "metadata": {
        "id": "7ENQX06SpPs0"
      },
      "outputs": [],
      "source": [
        "label_list = [ensembled_probs.reshape(len(class_names), -1).mean(dim=-1).max(dim=-1)[1].tolist() for ensembled_probs in ensembled_probs_list]"
      ]
    },
    {
      "cell_type": "code",
      "execution_count": null,
      "metadata": {
        "id": "dau62m1RpbRP"
      },
      "outputs": [],
      "source": [
        "submission = dict({'id_idx':list(range(8100)), 'label': label_list})"
      ]
    },
    {
      "cell_type": "code",
      "execution_count": null,
      "metadata": {
        "id": "230nOgdXpf35"
      },
      "outputs": [],
      "source": [
        "pd.DataFrame(submission).to_csv(os.path.join(root, 'submission2_054_046_drp0002.csv'), index=False)"
      ]
    },
    {
      "cell_type": "markdown",
      "metadata": {
        "id": "xxjcxa9wptFt"
      },
      "source": [
        "\n",
        "\n",
        "---\n",
        "\n",
        "# 3. 055+045"
      ]
    },
    {
      "cell_type": "code",
      "execution_count": null,
      "metadata": {
        "id": "vLW4ZniVpwoJ"
      },
      "outputs": [],
      "source": [
        "ensembled_probs_list = [meta_probs * 0.55 + eva_probs * 0.45 for meta_probs, eva_probs in zip(meta_probs_list, eva_probs_list)]"
      ]
    },
    {
      "cell_type": "code",
      "execution_count": null,
      "metadata": {
        "id": "fh1-ErVepwoK"
      },
      "outputs": [],
      "source": [
        "label_list = [ensembled_probs.reshape(len(class_names), -1).mean(dim=-1).max(dim=-1)[1].tolist() for ensembled_probs in ensembled_probs_list]"
      ]
    },
    {
      "cell_type": "code",
      "execution_count": null,
      "metadata": {
        "id": "mC2rSopLpwoK"
      },
      "outputs": [],
      "source": [
        "submission = dict({'id_idx':list(range(8100)), 'label': label_list})"
      ]
    },
    {
      "cell_type": "code",
      "execution_count": null,
      "metadata": {
        "id": "Tc1fD5odpwoK"
      },
      "outputs": [],
      "source": [
        "pd.DataFrame(submission).to_csv(os.path.join(root, 'submission3_055_045.csv'), index=False)"
      ]
    },
    {
      "cell_type": "markdown",
      "metadata": {
        "id": "lERBttzZBtQ-"
      },
      "source": [
        "\n",
        "\n",
        "---\n",
        "\n",
        "# 4. 055+045 (> 0.002)"
      ]
    },
    {
      "cell_type": "code",
      "execution_count": null,
      "metadata": {
        "id": "1n4WtfxRBw1V"
      },
      "outputs": [],
      "source": [
        "ensembled_probs_list = [torch.where(ensembled_probs > 0.002, ensembled_probs, 0) for ensembled_probs in ensembled_probs_list] ### ensembled_probs_list ###"
      ]
    },
    {
      "cell_type": "code",
      "execution_count": null,
      "metadata": {
        "id": "J0xRiDPXBw1V"
      },
      "outputs": [],
      "source": [
        "label_list = [ensembled_probs.reshape(len(class_names), -1).mean(dim=-1).max(dim=-1)[1].tolist() for ensembled_probs in ensembled_probs_list]"
      ]
    },
    {
      "cell_type": "code",
      "execution_count": null,
      "metadata": {
        "id": "ItAgQsFuBw1V"
      },
      "outputs": [],
      "source": [
        "submission = dict({'id_idx':list(range(8100)), 'label': label_list})"
      ]
    },
    {
      "cell_type": "code",
      "execution_count": null,
      "metadata": {
        "id": "j9nO6jHXBw1V"
      },
      "outputs": [],
      "source": [
        "pd.DataFrame(submission).to_csv(os.path.join(root, 'submission4_055_045_drp0002.csv'), index=False)"
      ]
    },
    {
      "cell_type": "markdown",
      "metadata": {
        "id": "_ah5wsYmp1nk"
      },
      "source": [
        "\n",
        "\n",
        "---\n",
        "\n",
        "# 5. 050+050"
      ]
    },
    {
      "cell_type": "code",
      "execution_count": null,
      "metadata": {
        "id": "yzo9ZBwgqDPw"
      },
      "outputs": [],
      "source": [
        "ensembled_probs_list = [meta_probs * 0.5 + eva_probs * 0.5 for meta_probs, eva_probs in zip(meta_probs_list, eva_probs_list)]"
      ]
    },
    {
      "cell_type": "code",
      "execution_count": null,
      "metadata": {
        "id": "w5FnqhY1qDP2"
      },
      "outputs": [],
      "source": [
        "label_list = [ensembled_probs.reshape(len(class_names), -1).mean(dim=-1).max(dim=-1)[1].tolist() for ensembled_probs in ensembled_probs_list]"
      ]
    },
    {
      "cell_type": "code",
      "execution_count": null,
      "metadata": {
        "id": "sJhrWX1LqDP2"
      },
      "outputs": [],
      "source": [
        "submission = dict({'id_idx':list(range(8100)), 'label': label_list})"
      ]
    },
    {
      "cell_type": "code",
      "execution_count": null,
      "metadata": {
        "id": "yR5nOrmwqDP2"
      },
      "outputs": [],
      "source": [
        "pd.DataFrame(submission).to_csv(os.path.join(root, 'submission5_050_050.csv'), index=False)"
      ]
    },
    {
      "cell_type": "markdown",
      "metadata": {
        "id": "QsQld_WwrGE4"
      },
      "source": [
        "\n",
        "\n",
        "---\n",
        "\n",
        "# 6. 050+050 (> 0.002)"
      ]
    },
    {
      "cell_type": "code",
      "execution_count": null,
      "metadata": {
        "id": "mhODL7IErMWS"
      },
      "outputs": [],
      "source": [
        "ensembled_probs_list = [torch.where(ensembled_probs > 0.002, ensembled_probs, 0) for ensembled_probs in ensembled_probs_list] ### ensembled_probs_list ###"
      ]
    },
    {
      "cell_type": "code",
      "execution_count": null,
      "metadata": {
        "id": "FX3dILpPrMWS"
      },
      "outputs": [],
      "source": [
        "label_list = [ensembled_probs.reshape(len(class_names), -1).mean(dim=-1).max(dim=-1)[1].tolist() for ensembled_probs in ensembled_probs_list]"
      ]
    },
    {
      "cell_type": "code",
      "execution_count": null,
      "metadata": {
        "id": "qtrF01jfrMWS"
      },
      "outputs": [],
      "source": [
        "submission = dict({'id_idx':list(range(8100)), 'label': label_list})"
      ]
    },
    {
      "cell_type": "code",
      "execution_count": null,
      "metadata": {
        "id": "7RmoHZ9hrMWS"
      },
      "outputs": [],
      "source": [
        "pd.DataFrame(submission).to_csv(os.path.join(root, 'submission6_050_050_drp0002.csv'), index=False)"
      ]
    }
  ],
  "metadata": {
    "accelerator": "GPU",
    "colab": {
      "gpuType": "A100",
      "machine_shape": "hm",
      "provenance": []
    },
    "kernelspec": {
      "display_name": "Python 3",
      "name": "python3"
    },
    "language_info": {
      "name": "python"
    },
    "widgets": {
      "application/vnd.jupyter.widget-state+json": {
        "c0becdda0ed145eb88d44dd4ed7d48a4": {
          "model_module": "@jupyter-widgets/controls",
          "model_name": "HBoxModel",
          "model_module_version": "1.5.0",
          "state": {
            "_dom_classes": [],
            "_model_module": "@jupyter-widgets/controls",
            "_model_module_version": "1.5.0",
            "_model_name": "HBoxModel",
            "_view_count": null,
            "_view_module": "@jupyter-widgets/controls",
            "_view_module_version": "1.5.0",
            "_view_name": "HBoxView",
            "box_style": "",
            "children": [
              "IPY_MODEL_ed8665c4cfd24d2693978ee7f81d6077",
              "IPY_MODEL_34b21e1df5a445c588c1856555b12e95",
              "IPY_MODEL_4e357a19459349e6b18c3f889f8211f7"
            ],
            "layout": "IPY_MODEL_376eb0eaeb9d4f18a228d20586e21dcc"
          }
        },
        "ed8665c4cfd24d2693978ee7f81d6077": {
          "model_module": "@jupyter-widgets/controls",
          "model_name": "HTMLModel",
          "model_module_version": "1.5.0",
          "state": {
            "_dom_classes": [],
            "_model_module": "@jupyter-widgets/controls",
            "_model_module_version": "1.5.0",
            "_model_name": "HTMLModel",
            "_view_count": null,
            "_view_module": "@jupyter-widgets/controls",
            "_view_module_version": "1.5.0",
            "_view_name": "HTMLView",
            "description": "",
            "description_tooltip": null,
            "layout": "IPY_MODEL_5a40a84c2c0649c4b6f6dc499814b4bb",
            "placeholder": "​",
            "style": "IPY_MODEL_3c71660624594fb897b53ad751537927",
            "value": "Loading checkpoint shards: 100%"
          }
        },
        "34b21e1df5a445c588c1856555b12e95": {
          "model_module": "@jupyter-widgets/controls",
          "model_name": "FloatProgressModel",
          "model_module_version": "1.5.0",
          "state": {
            "_dom_classes": [],
            "_model_module": "@jupyter-widgets/controls",
            "_model_module_version": "1.5.0",
            "_model_name": "FloatProgressModel",
            "_view_count": null,
            "_view_module": "@jupyter-widgets/controls",
            "_view_module_version": "1.5.0",
            "_view_name": "ProgressView",
            "bar_style": "success",
            "description": "",
            "description_tooltip": null,
            "layout": "IPY_MODEL_1b9a7087cf64415181d87729004a6864",
            "max": 8,
            "min": 0,
            "orientation": "horizontal",
            "style": "IPY_MODEL_8a48fa1557934cb5af522b62cc7e1076",
            "value": 8
          }
        },
        "4e357a19459349e6b18c3f889f8211f7": {
          "model_module": "@jupyter-widgets/controls",
          "model_name": "HTMLModel",
          "model_module_version": "1.5.0",
          "state": {
            "_dom_classes": [],
            "_model_module": "@jupyter-widgets/controls",
            "_model_module_version": "1.5.0",
            "_model_name": "HTMLModel",
            "_view_count": null,
            "_view_module": "@jupyter-widgets/controls",
            "_view_module_version": "1.5.0",
            "_view_name": "HTMLView",
            "description": "",
            "description_tooltip": null,
            "layout": "IPY_MODEL_960f270135d64a25b40feb43c3ebd7c0",
            "placeholder": "​",
            "style": "IPY_MODEL_0f1ae66003ca4782b4722ddd9b7879ab",
            "value": " 8/8 [09:27&lt;00:00, 61.46s/it]"
          }
        },
        "376eb0eaeb9d4f18a228d20586e21dcc": {
          "model_module": "@jupyter-widgets/base",
          "model_name": "LayoutModel",
          "model_module_version": "1.2.0",
          "state": {
            "_model_module": "@jupyter-widgets/base",
            "_model_module_version": "1.2.0",
            "_model_name": "LayoutModel",
            "_view_count": null,
            "_view_module": "@jupyter-widgets/base",
            "_view_module_version": "1.2.0",
            "_view_name": "LayoutView",
            "align_content": null,
            "align_items": null,
            "align_self": null,
            "border": null,
            "bottom": null,
            "display": null,
            "flex": null,
            "flex_flow": null,
            "grid_area": null,
            "grid_auto_columns": null,
            "grid_auto_flow": null,
            "grid_auto_rows": null,
            "grid_column": null,
            "grid_gap": null,
            "grid_row": null,
            "grid_template_areas": null,
            "grid_template_columns": null,
            "grid_template_rows": null,
            "height": null,
            "justify_content": null,
            "justify_items": null,
            "left": null,
            "margin": null,
            "max_height": null,
            "max_width": null,
            "min_height": null,
            "min_width": null,
            "object_fit": null,
            "object_position": null,
            "order": null,
            "overflow": null,
            "overflow_x": null,
            "overflow_y": null,
            "padding": null,
            "right": null,
            "top": null,
            "visibility": null,
            "width": null
          }
        },
        "5a40a84c2c0649c4b6f6dc499814b4bb": {
          "model_module": "@jupyter-widgets/base",
          "model_name": "LayoutModel",
          "model_module_version": "1.2.0",
          "state": {
            "_model_module": "@jupyter-widgets/base",
            "_model_module_version": "1.2.0",
            "_model_name": "LayoutModel",
            "_view_count": null,
            "_view_module": "@jupyter-widgets/base",
            "_view_module_version": "1.2.0",
            "_view_name": "LayoutView",
            "align_content": null,
            "align_items": null,
            "align_self": null,
            "border": null,
            "bottom": null,
            "display": null,
            "flex": null,
            "flex_flow": null,
            "grid_area": null,
            "grid_auto_columns": null,
            "grid_auto_flow": null,
            "grid_auto_rows": null,
            "grid_column": null,
            "grid_gap": null,
            "grid_row": null,
            "grid_template_areas": null,
            "grid_template_columns": null,
            "grid_template_rows": null,
            "height": null,
            "justify_content": null,
            "justify_items": null,
            "left": null,
            "margin": null,
            "max_height": null,
            "max_width": null,
            "min_height": null,
            "min_width": null,
            "object_fit": null,
            "object_position": null,
            "order": null,
            "overflow": null,
            "overflow_x": null,
            "overflow_y": null,
            "padding": null,
            "right": null,
            "top": null,
            "visibility": null,
            "width": null
          }
        },
        "3c71660624594fb897b53ad751537927": {
          "model_module": "@jupyter-widgets/controls",
          "model_name": "DescriptionStyleModel",
          "model_module_version": "1.5.0",
          "state": {
            "_model_module": "@jupyter-widgets/controls",
            "_model_module_version": "1.5.0",
            "_model_name": "DescriptionStyleModel",
            "_view_count": null,
            "_view_module": "@jupyter-widgets/base",
            "_view_module_version": "1.2.0",
            "_view_name": "StyleView",
            "description_width": ""
          }
        },
        "1b9a7087cf64415181d87729004a6864": {
          "model_module": "@jupyter-widgets/base",
          "model_name": "LayoutModel",
          "model_module_version": "1.2.0",
          "state": {
            "_model_module": "@jupyter-widgets/base",
            "_model_module_version": "1.2.0",
            "_model_name": "LayoutModel",
            "_view_count": null,
            "_view_module": "@jupyter-widgets/base",
            "_view_module_version": "1.2.0",
            "_view_name": "LayoutView",
            "align_content": null,
            "align_items": null,
            "align_self": null,
            "border": null,
            "bottom": null,
            "display": null,
            "flex": null,
            "flex_flow": null,
            "grid_area": null,
            "grid_auto_columns": null,
            "grid_auto_flow": null,
            "grid_auto_rows": null,
            "grid_column": null,
            "grid_gap": null,
            "grid_row": null,
            "grid_template_areas": null,
            "grid_template_columns": null,
            "grid_template_rows": null,
            "height": null,
            "justify_content": null,
            "justify_items": null,
            "left": null,
            "margin": null,
            "max_height": null,
            "max_width": null,
            "min_height": null,
            "min_width": null,
            "object_fit": null,
            "object_position": null,
            "order": null,
            "overflow": null,
            "overflow_x": null,
            "overflow_y": null,
            "padding": null,
            "right": null,
            "top": null,
            "visibility": null,
            "width": null
          }
        },
        "8a48fa1557934cb5af522b62cc7e1076": {
          "model_module": "@jupyter-widgets/controls",
          "model_name": "ProgressStyleModel",
          "model_module_version": "1.5.0",
          "state": {
            "_model_module": "@jupyter-widgets/controls",
            "_model_module_version": "1.5.0",
            "_model_name": "ProgressStyleModel",
            "_view_count": null,
            "_view_module": "@jupyter-widgets/base",
            "_view_module_version": "1.2.0",
            "_view_name": "StyleView",
            "bar_color": null,
            "description_width": ""
          }
        },
        "960f270135d64a25b40feb43c3ebd7c0": {
          "model_module": "@jupyter-widgets/base",
          "model_name": "LayoutModel",
          "model_module_version": "1.2.0",
          "state": {
            "_model_module": "@jupyter-widgets/base",
            "_model_module_version": "1.2.0",
            "_model_name": "LayoutModel",
            "_view_count": null,
            "_view_module": "@jupyter-widgets/base",
            "_view_module_version": "1.2.0",
            "_view_name": "LayoutView",
            "align_content": null,
            "align_items": null,
            "align_self": null,
            "border": null,
            "bottom": null,
            "display": null,
            "flex": null,
            "flex_flow": null,
            "grid_area": null,
            "grid_auto_columns": null,
            "grid_auto_flow": null,
            "grid_auto_rows": null,
            "grid_column": null,
            "grid_gap": null,
            "grid_row": null,
            "grid_template_areas": null,
            "grid_template_columns": null,
            "grid_template_rows": null,
            "height": null,
            "justify_content": null,
            "justify_items": null,
            "left": null,
            "margin": null,
            "max_height": null,
            "max_width": null,
            "min_height": null,
            "min_width": null,
            "object_fit": null,
            "object_position": null,
            "order": null,
            "overflow": null,
            "overflow_x": null,
            "overflow_y": null,
            "padding": null,
            "right": null,
            "top": null,
            "visibility": null,
            "width": null
          }
        },
        "0f1ae66003ca4782b4722ddd9b7879ab": {
          "model_module": "@jupyter-widgets/controls",
          "model_name": "DescriptionStyleModel",
          "model_module_version": "1.5.0",
          "state": {
            "_model_module": "@jupyter-widgets/controls",
            "_model_module_version": "1.5.0",
            "_model_name": "DescriptionStyleModel",
            "_view_count": null,
            "_view_module": "@jupyter-widgets/base",
            "_view_module_version": "1.2.0",
            "_view_name": "StyleView",
            "description_width": ""
          }
        }
      }
    }
  },
  "nbformat": 4,
  "nbformat_minor": 0
}